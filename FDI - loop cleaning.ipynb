{
 "cells": [
  {
   "cell_type": "code",
   "execution_count": 1,
   "metadata": {},
   "outputs": [],
   "source": [
    "import os\n",
    "import pandas as pd\n",
    "import numpy as np\n",
    "import re"
   ]
  },
  {
   "cell_type": "code",
   "execution_count": 2,
   "metadata": {},
   "outputs": [
    {
     "data": {
      "text/plain": [
       "'/home/sony/Documents/Chris/Thesis_data_cleaning'"
      ]
     },
     "execution_count": 2,
     "metadata": {},
     "output_type": "execute_result"
    }
   ],
   "source": [
    "os.getcwd()"
   ]
  },
  {
   "cell_type": "code",
   "execution_count": 3,
   "metadata": {},
   "outputs": [],
   "source": [
    "directory  = \"/media/sony/0CA83E99A83E80EE/Chris/Bocconi/Thesis/Data_copy/Data/FDI\"\n",
    "store_dir_wide = \"/media/sony/0CA83E99A83E80EE/Chris/Bocconi/Thesis/Data_copy/Data/Wide_FDI\"\n",
    "store_dir_long = \"/media/sony/0CA83E99A83E80EE/Chris/Bocconi/Thesis/Data_copy/Data/Long_FDI\"\n",
    "others_dir = \"/media/sony/0CA83E99A83E80EE/Chris/Bocconi/Thesis/Data_copy/Data/Others/\""
   ]
  },
  {
   "cell_type": "code",
   "execution_count": 4,
   "metadata": {},
   "outputs": [],
   "source": [
    "country_code_map = dict()"
   ]
  },
  {
   "cell_type": "code",
   "execution_count": 5,
   "metadata": {},
   "outputs": [],
   "source": [
    "#To conform with the standard name used with UNCTAD dataset \n",
    "names_convertAB = {'Congo, Democratic Rep. of' : 'Democratic Republic of Congo',\n",
    "           'Venezuela, Bolivarian Rep. of': 'Bolivarian Republic of Venezuela',\n",
    "          'United Rep. of Tanzania': 'United Republic of Tanzania',\n",
    "           'Korea, Republic of': 'Republic of Korea',\n",
    "           'Iran, Islamic Republic of': 'Islamic Republic of Iran',\n",
    "           'Moldova, Republic of': 'Republic of Moldova',\n",
    "           'Bolivia, Plurinational State of': 'Plurinational State of Bolivia',\n",
    "            \"Lao People's Dem. Rep.\": \"Lao People's Democratic Republic\"\n",
    "          }"
   ]
  },
  {
   "cell_type": "code",
   "execution_count": 6,
   "metadata": {},
   "outputs": [
    {
     "data": {
      "text/plain": [
       "{'Democratic Republic of Congo': 'Congo, Democratic Rep. of',\n",
       " 'Bolivarian Republic of Venezuela': 'Venezuela, Bolivarian Rep. of',\n",
       " 'United Republic of Tanzania': 'United Rep. of Tanzania',\n",
       " 'Republic of Korea': 'Korea, Republic of',\n",
       " 'Islamic Republic of Iran': 'Iran, Islamic Republic of',\n",
       " 'Republic of Moldova': 'Moldova, Republic of',\n",
       " 'Plurinational State of Bolivia': 'Bolivia, Plurinational State of',\n",
       " \"Lao People's Democratic Republic\": \"Lao People's Dem. Rep.\"}"
      ]
     },
     "execution_count": 6,
     "metadata": {},
     "output_type": "execute_result"
    }
   ],
   "source": [
    "names_convertBA = dict( [(value, key) for key, value in names_convertAB.items()] )\n",
    "names_convertBA"
   ]
  },
  {
   "cell_type": "code",
   "execution_count": 7,
   "metadata": {},
   "outputs": [],
   "source": [
    "#Data cleaning + Wide format + Long format\n",
    "for path in os.listdir(directory):\n",
    "    country_code = re.findall(r'_([A-Z]+)', path)[0]\n",
    "    df = pd.read_excel(directory +'/' + path, sheet_name= 0, header = 4, na_values ='..')\n",
    "    years =  list( range(2001,2013) )\n",
    "    cols_unwanted = df.columns.difference(years)\n",
    "    df_remain = df[cols_unwanted]\n",
    "    df_remain = df_remain.fillna('')\n",
    "    df['home'] = df_remain.apply(\"\".join, axis =1)\n",
    "    for col in cols_unwanted:\n",
    "        del df[col]\n",
    "    df = df.dropna(thresh = 2)\n",
    "    hostname_df = pd.read_excel(directory +'/' + path, sheet_name= 0, na_values ='..')\n",
    "    \n",
    "    if \" \".join(hostname_df.columns[0].split()) in names_convertBA.keys():\n",
    "        df['host'] = names_convertBA[\" \".join(hostname_df.columns[0].split())  ]\n",
    "        country_code_map[names_convertBA[ \" \".join(hostname_df.columns[0].split())  ]] = country_code\n",
    "    else:\n",
    "        df['host'] = \" \".join(hostname_df.columns[0].split())\n",
    "        country_code_map[\" \".join(hostname_df.columns[0].split())] = country_code\n",
    "    cols = df.columns.tolist()\n",
    "    cols = cols[-2:] + cols[: -2]\n",
    "    df = df[cols]\n",
    "    df.to_excel(store_dir_wide+'/'+country_code +'_wide.xls',index = False)\n",
    "    \n",
    "    #Using Alternative Format\n",
    "    df_melt2 = pd.melt(df, id_vars= ['home', 'host'], var_name = 'year', value_name= 'fdi')\n",
    "    df_melt2.to_excel(store_dir_long +'/'+country_code +'_long.xls',index = False)"
   ]
  },
  {
   "cell_type": "code",
   "execution_count": 8,
   "metadata": {},
   "outputs": [
    {
     "data": {
      "text/plain": [
       "{'Aruba': 'ABW',\n",
       " 'Afghanistan': 'AFG',\n",
       " 'Angola': 'AGO',\n",
       " 'Anguilla': 'AIA',\n",
       " 'Albania': 'ALB',\n",
       " 'Netherlands Antilles': 'ANT',\n",
       " 'United Arab Emirates': 'ARE',\n",
       " 'Argentina': 'ARG',\n",
       " 'Armenia': 'ARM',\n",
       " 'American Samoa': 'ASM',\n",
       " 'Antigua and Barbuda': 'ATG',\n",
       " 'Australia': 'AUS',\n",
       " 'Austria': 'AUT',\n",
       " 'Azerbaijan': 'AZE',\n",
       " 'Burundi': 'BDI',\n",
       " 'Belgium': 'BEL',\n",
       " 'Turkey': 'TUR',\n",
       " 'Tuvalu': 'TUV',\n",
       " 'Taiwan Province of China': 'TWN',\n",
       " 'United Rep. of Tanzania': 'TZA',\n",
       " 'Uganda': 'UGA',\n",
       " 'Ukraine': 'UKR',\n",
       " 'Uruguay': 'URY',\n",
       " 'United States': 'USA',\n",
       " 'Saint Vincent and the Grenadines': 'VCT',\n",
       " 'Venezuela, Bolivarian Rep. of': 'VEN',\n",
       " 'British Virgin Islands': 'VGB',\n",
       " 'US Virgin Islands': 'VIR',\n",
       " 'Viet Nam': 'VNM',\n",
       " 'Vanuatu': 'VUT',\n",
       " 'Samoa': 'WSM',\n",
       " 'Yemen': 'YEM',\n",
       " 'South Africa': 'ZAF',\n",
       " 'Zambia': 'ZMB',\n",
       " 'Zimbabwe': 'ZWE',\n",
       " 'Suriname': 'SUR',\n",
       " 'Slovakia': 'SVK',\n",
       " 'Slovenia': 'SVN',\n",
       " 'Sweden': 'SWE',\n",
       " 'Swaziland': 'SWZ',\n",
       " 'Seychelles': 'SYC',\n",
       " 'Syrian Arab Republic': 'SYR',\n",
       " 'Turks and Caicos Islands': 'TCA',\n",
       " 'Chad': 'TCD',\n",
       " 'Togo': 'TGO',\n",
       " 'Thailand': 'THA',\n",
       " 'Tajikistan': 'TJK',\n",
       " 'Tokelau': 'TKL',\n",
       " 'Timor-Leste': 'TLS',\n",
       " 'Tonga': 'TON',\n",
       " 'Trinidad and Tobago': 'TTO',\n",
       " 'State of Palestine': 'PSE',\n",
       " 'French Polynesia': 'PYF',\n",
       " 'Qatar': 'QAT',\n",
       " 'Reunion': 'REU',\n",
       " 'Romania': 'ROU',\n",
       " 'Russian Federation': 'RUS',\n",
       " 'Rwanda': 'RWA',\n",
       " 'Saudi Arabia': 'SAU',\n",
       " 'Sudan': 'SDN',\n",
       " 'Senegal': 'SEN',\n",
       " 'Singapore': 'SGP',\n",
       " 'Saint Helena': 'SHN',\n",
       " 'Solomon Islands': 'SLB',\n",
       " 'Sierra Leone': 'SLE',\n",
       " 'El Salvador': 'SLV',\n",
       " 'Somalia': 'SOM',\n",
       " 'Serbia': 'SRB',\n",
       " 'Benin': 'BEN',\n",
       " 'Botswana': 'BWA',\n",
       " 'Cyprus': 'CYP',\n",
       " 'Federated States of Micronesia': 'FSM',\n",
       " 'India': 'IND',\n",
       " \"Lao People's Dem. Rep.\": 'LAO',\n",
       " 'The FYR of Macedonia': 'MKD',\n",
       " 'Nicaragua': 'NIC',\n",
       " 'Paraguay': 'PRY',\n",
       " 'São Tomé and Principe': 'STP',\n",
       " 'Tunisia': 'TUN',\n",
       " 'Niue': 'NIU',\n",
       " 'Netherlands': 'NLD',\n",
       " 'Norway': 'NOR',\n",
       " 'Nepal': 'NPL',\n",
       " 'Nauru': 'NRU',\n",
       " 'New Zealand': 'NZL',\n",
       " 'Oman': 'OMN',\n",
       " 'Pakistan': 'PAK',\n",
       " 'Panama': 'PAN',\n",
       " 'Peru': 'PER',\n",
       " 'Philippines': 'PHL',\n",
       " 'Palau': 'PLW',\n",
       " 'Papua New Guinea': 'PNG',\n",
       " 'Poland': 'POL',\n",
       " 'Puerto Rico': 'PRI',\n",
       " \"Korea, Democratic People's Republic of\": 'PRK',\n",
       " 'Portugal': 'PRT',\n",
       " 'Mali': 'MLI',\n",
       " 'Malta': 'MLT',\n",
       " 'Myanmar': 'MMR',\n",
       " 'Montenegro': 'MNE',\n",
       " 'Mongolia': 'MNG',\n",
       " 'Northern Mariana Islands': 'MNP',\n",
       " 'Mozambique': 'MOZ',\n",
       " 'Mauritania': 'MRT',\n",
       " 'Mauritius': 'MUS',\n",
       " 'Malawi': 'MWI',\n",
       " 'Malaysia': 'MYS',\n",
       " 'Namibia': 'NAM',\n",
       " 'New Caledonia': 'NCL',\n",
       " 'Niger': 'NER',\n",
       " 'Nigeria': 'NGA',\n",
       " 'Lebanon': 'LBN',\n",
       " 'Liberia': 'LBR',\n",
       " 'Libya': 'LBY',\n",
       " 'Saint Lucia': 'LCA',\n",
       " 'Sri Lanka': 'LKA',\n",
       " 'Lesotho': 'LSO',\n",
       " 'Lithuania': 'LTU',\n",
       " 'Luxembourg': 'LUX',\n",
       " 'Latvia': 'LVA',\n",
       " 'Macao, China': 'MAC',\n",
       " 'Morocco': 'MAR',\n",
       " 'Moldova, Republic of': 'MDA',\n",
       " 'Madagascar': 'MDG',\n",
       " 'Maldives': 'MDV',\n",
       " 'Mexico': 'MEX',\n",
       " 'Marshall Islands': 'MHL',\n",
       " 'Ireland': 'IRL',\n",
       " 'Iran, Islamic Republic of': 'IRN',\n",
       " 'Iraq': 'IRQ',\n",
       " 'Iceland': 'ISL',\n",
       " 'Israel': 'ISR',\n",
       " 'Italy': 'ITA',\n",
       " 'Jamaica': 'JAM',\n",
       " 'Jordan': 'JOR',\n",
       " 'Japan': 'JPN',\n",
       " 'Kazakhstan': 'KAZ',\n",
       " 'Kenya': 'KEN',\n",
       " 'Kyrgyzstan': 'KGZ',\n",
       " 'Cambodia': 'KHM',\n",
       " 'Saint Kitts and Nevis': 'KNA',\n",
       " 'Korea, Republic of': 'KOR',\n",
       " 'Kuwait': 'KWT',\n",
       " 'Gabon': 'GAB',\n",
       " 'United Kingdom': 'GBR',\n",
       " 'Georgia': 'GEO',\n",
       " 'Ghana': 'GHA',\n",
       " 'Guinea': 'GIN',\n",
       " 'Gambia': 'GMB',\n",
       " 'Guinea-Bissau': 'GNB',\n",
       " 'Equatorial Guinea': 'GNQ',\n",
       " 'Greece': 'GRC',\n",
       " 'Grenada': 'GRD',\n",
       " 'Guatemala': 'GTM',\n",
       " 'Hong Kong, China': 'HGK',\n",
       " 'Honduras': 'HND',\n",
       " 'Croatia': 'HRV',\n",
       " 'Haiti': 'HTI',\n",
       " 'Hungary': 'HUN',\n",
       " 'Indonesia': 'IDN',\n",
       " 'Czech Republic': 'CZE',\n",
       " 'Germany': 'DEU',\n",
       " 'Djibouti': 'DJI',\n",
       " 'Dominica': 'DMA',\n",
       " 'Denmark': 'DNK',\n",
       " 'Dominican Republic': 'DOM',\n",
       " 'Algeria': 'DZA',\n",
       " 'Ecuador': 'ECU',\n",
       " 'Egypt': 'EGY',\n",
       " 'Eritrea': 'ERI',\n",
       " 'Spain': 'ESP',\n",
       " 'Estonia': 'EST',\n",
       " 'Ethiopia': 'ETH',\n",
       " 'Finland': 'FIN',\n",
       " 'Fiji': 'FJI',\n",
       " 'France': 'FRA',\n",
       " 'Central African Republic': 'CAF',\n",
       " 'Canada': 'CAN',\n",
       " 'Switzerland': 'CHE',\n",
       " 'Chile': 'CHL',\n",
       " 'China': 'CHN',\n",
       " \"Côte d' Ivoire\": 'CIV',\n",
       " 'Cameroon': 'CMR',\n",
       " 'Congo, Democratic Rep. of': 'COD',\n",
       " 'Congo': 'COG',\n",
       " 'Cook Islands': 'COK',\n",
       " 'Colombia': 'COL',\n",
       " 'Comoros': 'COM',\n",
       " 'Cape Verde': 'CPV',\n",
       " 'Costa Rica': 'CRI',\n",
       " 'Cayman Islands': 'CYM',\n",
       " 'Burkina Faso': 'BFA',\n",
       " 'Bangladesh': 'BGD',\n",
       " 'Bulgaria': 'BGR',\n",
       " 'Bahrain': 'BHR',\n",
       " 'Bahamas': 'BHS',\n",
       " 'Bosnia and Herzegovina': 'BIH',\n",
       " 'British Indian Ocean Territory': 'BIOT',\n",
       " 'Belarus': 'BLR',\n",
       " 'Belize': 'BLZ',\n",
       " 'Bermuda': 'BMU',\n",
       " 'Bolivia, Plurinational State of': 'BOL',\n",
       " 'Brazil': 'BRA',\n",
       " 'Barbados': 'BRB',\n",
       " 'Brunei Darussalam': 'BRN',\n",
       " 'Bhutan': 'BTN'}"
      ]
     },
     "execution_count": 8,
     "metadata": {},
     "output_type": "execute_result"
    }
   ],
   "source": [
    "country_code_map\n"
   ]
  },
  {
   "cell_type": "code",
   "execution_count": 33,
   "metadata": {},
   "outputs": [],
   "source": []
  },
  {
   "cell_type": "code",
   "execution_count": null,
   "metadata": {},
   "outputs": [],
   "source": []
  },
  {
   "cell_type": "code",
   "execution_count": null,
   "metadata": {},
   "outputs": [],
   "source": []
  },
  {
   "cell_type": "code",
   "execution_count": 17,
   "metadata": {},
   "outputs": [],
   "source": [
    "short_cc_map = dict()"
   ]
  },
  {
   "cell_type": "code",
   "execution_count": 19,
   "metadata": {},
   "outputs": [
    {
     "name": "stdout",
     "output_type": "stream",
     "text": [
      "Venezuela, Bolivarian Rep. of\n",
      "Korea, Democratic People's Republic of\n",
      "Macao, China\n",
      "Moldova, Republic of\n",
      "Iran, Islamic Republic of\n",
      "Korea, Republic of\n",
      "Hong Kong, China\n",
      "Congo, Democratic Rep. of\n",
      "Bolivia, Plurinational State of\n"
     ]
    }
   ],
   "source": [
    "for key, val in country_code_map.items():\n",
    "    if len(key.split(',')) == 2:\n",
    "        print(key)"
   ]
  },
  {
   "cell_type": "code",
   "execution_count": null,
   "metadata": {},
   "outputs": [],
   "source": []
  }
 ],
 "metadata": {
  "kernelspec": {
   "display_name": "Python 3",
   "language": "python",
   "name": "python3"
  },
  "language_info": {
   "codemirror_mode": {
    "name": "ipython",
    "version": 3
   },
   "file_extension": ".py",
   "mimetype": "text/x-python",
   "name": "python",
   "nbconvert_exporter": "python",
   "pygments_lexer": "ipython3",
   "version": "3.6.8"
  }
 },
 "nbformat": 4,
 "nbformat_minor": 2
}
